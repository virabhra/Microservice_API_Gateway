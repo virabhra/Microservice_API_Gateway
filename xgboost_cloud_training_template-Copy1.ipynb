{
 "cells": [
  {
   "cell_type": "markdown",
   "metadata": {},
   "source": [
    "# XGBoost Built-in Algorithm"
   ]
  },
  {
   "cell_type": "code",
   "execution_count": 16,
   "metadata": {},
   "outputs": [],
   "source": [
    "import numpy as np\n",
    "import pandas as pd\n",
    "\n",
    "import boto3\n",
    "import re\n",
    "\n",
    "import sagemaker\n",
    "from sagemaker import get_execution_role\n",
    "# SageMaker SDK Documentation: http://sagemaker.readthedocs.io/en/latest/estimators.html"
   ]
  },
  {
   "cell_type": "markdown",
   "metadata": {},
   "source": [
    "## Upload Data to S3"
   ]
  },
  {
   "cell_type": "code",
   "execution_count": 17,
   "metadata": {},
   "outputs": [],
   "source": [
    "# Specify your bucket name\n",
    "bucket_name = 'abhra-ml-sagemaker'\n",
    "\n",
    "training_folder = r'bikerental/training/'\n",
    "validation_folder = r'bikerental/validation/'\n",
    "test_folder = r'bikerental/test/'\n",
    "\n",
    "s3_model_output_location = r's3://{0}/bikerental/model'.format(bucket_name)\n",
    "s3_training_file_location = r's3://{0}/{1}'.format(bucket_name,training_folder)\n",
    "s3_validation_file_location = r's3://{0}/{1}'.format(bucket_name,validation_folder)\n",
    "s3_test_file_location = r's3://{0}/{1}'.format(bucket_name,test_folder)"
   ]
  },
  {
   "cell_type": "code",
   "execution_count": 18,
   "metadata": {},
   "outputs": [
    {
     "name": "stdout",
     "output_type": "stream",
     "text": [
      "s3://abhra-ml-sagemaker/bikerental/model\n",
      "s3://abhra-ml-sagemaker/bikerental/training/\n",
      "s3://abhra-ml-sagemaker/bikerental/validation/\n",
      "s3://abhra-ml-sagemaker/bikerental/test/\n"
     ]
    }
   ],
   "source": [
    "print(s3_model_output_location)\n",
    "print(s3_training_file_location)\n",
    "print(s3_validation_file_location)\n",
    "print(s3_test_file_location)"
   ]
  },
  {
   "cell_type": "code",
   "execution_count": 19,
   "metadata": {},
   "outputs": [],
   "source": [
    "# Write and Reading from S3 is just as easy\n",
    "# files are referred as objects in S3.  \n",
    "# file name is referred as key name in S3\n",
    "\n",
    "# File stored in S3 is automatically replicated across 3 different availability zones \n",
    "# in the region where the bucket was created.\n",
    "\n",
    "# http://boto3.readthedocs.io/en/latest/guide/s3.html\n",
    "def write_to_s3(filename, bucket, key):\n",
    "    with open(filename,'rb') as f: # Read in binary mode\n",
    "        return boto3.Session().resource('s3').Bucket(bucket).Object(key).upload_fileobj(f)"
   ]
  },
  {
   "cell_type": "code",
   "execution_count": 20,
   "metadata": {},
   "outputs": [],
   "source": [
    "write_to_s3('bike_train.csv', \n",
    "            bucket_name,\n",
    "            training_folder + 'bike_train.csv')\n",
    "\n",
    "write_to_s3('bike_validation.csv',\n",
    "            bucket_name,\n",
    "            validation_folder + 'bike_validation.csv')\n",
    "\n",
    "write_to_s3('bike_test.csv',\n",
    "            bucket_name,\n",
    "            test_folder + 'bike_test.csv')"
   ]
  },
  {
   "cell_type": "markdown",
   "metadata": {},
   "source": [
    "## Training Algorithm Docker Image\n",
    "### SageMaker maintains a separate image for algorithm and region\n",
    "https://docs.aws.amazon.com/sagemaker/latest/dg/sagemaker-algo-docker-registry-paths.html"
   ]
  },
  {
   "cell_type": "code",
   "execution_count": 21,
   "metadata": {},
   "outputs": [],
   "source": [
    "# Establish a session with AWS\n",
    "sess = sagemaker.Session()"
   ]
  },
  {
   "cell_type": "code",
   "execution_count": 22,
   "metadata": {},
   "outputs": [],
   "source": [
    "role = get_execution_role()"
   ]
  },
  {
   "cell_type": "code",
   "execution_count": 23,
   "metadata": {},
   "outputs": [
    {
     "name": "stdout",
     "output_type": "stream",
     "text": [
      "arn:aws:iam::077395765296:role/service-role/AmazonSageMaker-ExecutionRole-20210206T235007\n"
     ]
    }
   ],
   "source": [
    "# This role contains the permissions needed to train, deploy models\n",
    "# SageMaker Service is trusted to assume this role\n",
    "print(role)"
   ]
  },
  {
   "cell_type": "code",
   "execution_count": 24,
   "metadata": {},
   "outputs": [
    {
     "name": "stdout",
     "output_type": "stream",
     "text": [
      "Using XGBoost Container 683313688378.dkr.ecr.us-east-1.amazonaws.com/sagemaker-xgboost:1.2-1\n"
     ]
    }
   ],
   "source": [
    "# https://sagemaker.readthedocs.io/en/stable/api/utility/image_uris.html#sagemaker.image_uris.retrieve\n",
    "\n",
    "# SDK 2 uses image_uris.retrieve the container image location\n",
    "\n",
    "# Use XGBoost 1.2 version \n",
    "container = sagemaker.image_uris.retrieve(\"xgboost\",sess.boto_region_name,version=\"1.2-1\")\n",
    "\n",
    "print (f'Using XGBoost Container {container}')"
   ]
  },
  {
   "cell_type": "markdown",
   "metadata": {},
   "source": [
    "## Build Model"
   ]
  },
  {
   "cell_type": "code",
   "execution_count": 25,
   "metadata": {},
   "outputs": [],
   "source": [
    "# Configure the training job\n",
    "# Specify type and number of instances to use\n",
    "# S3 location where final artifacts needs to be stored\n",
    "\n",
    "#   Reference: http://sagemaker.readthedocs.io/en/latest/estimators.html\n",
    "\n",
    "# SDK 2.x version does not require train prefix for instance count and type\n",
    "estimator = sagemaker.estimator.Estimator(\n",
    "    container,\n",
    "    role,\n",
    "    instance_count=1,\n",
    "    instance_type='ml.m4.xlarge',\n",
    "    output_path=s3_model_output_location,\n",
    "    sagemaker_session=sess,\n",
    "    base_job_name = 'xgboost-bikerental-v1')"
   ]
  },
  {
   "cell_type": "code",
   "execution_count": 26,
   "metadata": {},
   "outputs": [],
   "source": [
    "# Specify hyper parameters that appropriate for the training algorithm\n",
    "# XGBoost Training Parameter Reference\n",
    "#  https://github.com/dmlc/xgboost/blob/master/doc/parameter.rst#learning-task-parameters\n",
    "\n",
    "# TODO: objective xgboost has deprecated reg:linear. use reg:squarederror instead\n",
    "estimator.set_hyperparameters(max_depth=5,\n",
    "                              objective=\"reg:squarederror\",\n",
    "                              eta=0.1,\n",
    "                              num_round=150)"
   ]
  },
  {
   "cell_type": "code",
   "execution_count": 27,
   "metadata": {},
   "outputs": [
    {
     "data": {
      "text/plain": [
       "{'max_depth': 5, 'objective': 'reg:squarederror', 'eta': 0.1, 'num_round': 150}"
      ]
     },
     "execution_count": 27,
     "metadata": {},
     "output_type": "execute_result"
    }
   ],
   "source": [
    "estimator.hyperparameters()"
   ]
  },
  {
   "cell_type": "markdown",
   "metadata": {
    "collapsed": true
   },
   "source": [
    "### Specify Training Data Location and Optionally, Validation Data Location"
   ]
  },
  {
   "cell_type": "code",
   "execution_count": 28,
   "metadata": {},
   "outputs": [],
   "source": [
    "# content type can be libsvm or csv for XGBoost\n",
    "training_input_config = sagemaker.session.TrainingInput(\n",
    "    s3_data=s3_training_file_location,\n",
    "    content_type='csv',\n",
    "    s3_data_type='S3Prefix')\n",
    "\n",
    "validation_input_config = sagemaker.session.TrainingInput(\n",
    "    s3_data=s3_validation_file_location,\n",
    "    content_type='csv',\n",
    "    s3_data_type='S3Prefix'\n",
    ")\n",
    "\n",
    "data_channels = {'train': training_input_config, 'validation': validation_input_config}"
   ]
  },
  {
   "cell_type": "code",
   "execution_count": 29,
   "metadata": {},
   "outputs": [
    {
     "name": "stdout",
     "output_type": "stream",
     "text": [
      "{'DataSource': {'S3DataSource': {'S3DataType': 'S3Prefix', 'S3Uri': 's3://abhra-ml-sagemaker/bikerental/training/', 'S3DataDistributionType': 'FullyReplicated'}}, 'ContentType': 'csv'}\n",
      "{'DataSource': {'S3DataSource': {'S3DataType': 'S3Prefix', 'S3Uri': 's3://abhra-ml-sagemaker/bikerental/validation/', 'S3DataDistributionType': 'FullyReplicated'}}, 'ContentType': 'csv'}\n"
     ]
    }
   ],
   "source": [
    "print(training_input_config.config)\n",
    "print(validation_input_config.config)"
   ]
  },
  {
   "cell_type": "markdown",
   "metadata": {},
   "source": [
    "### Train the model"
   ]
  },
  {
   "cell_type": "code",
   "execution_count": 30,
   "metadata": {},
   "outputs": [
    {
     "name": "stdout",
     "output_type": "stream",
     "text": [
      "2021-02-07 13:49:32 Starting - Starting the training job...\n",
      "2021-02-07 13:49:56 Starting - Launching requested ML instancesProfilerReport-1612705772: InProgress\n",
      "......\n",
      "2021-02-07 13:50:57 Starting - Preparing the instances for training.........\n",
      "2021-02-07 13:52:23 Downloading - Downloading input data\n",
      "2021-02-07 13:52:23 Training - Downloading the training image.....\u001b[34mINFO:sagemaker-containers:Imported framework sagemaker_xgboost_container.training\u001b[0m\n",
      "\u001b[34mINFO:sagemaker-containers:Failed to parse hyperparameter objective value reg:squarederror to Json.\u001b[0m\n",
      "\u001b[34mReturning the value itself\u001b[0m\n",
      "\u001b[34mINFO:sagemaker-containers:No GPUs detected (normal if no gpus installed)\u001b[0m\n",
      "\u001b[34mINFO:sagemaker_xgboost_container.training:Running XGBoost Sagemaker in algorithm mode\u001b[0m\n",
      "\u001b[34mINFO:root:Determined delimiter of CSV input is ','\u001b[0m\n",
      "\u001b[34mINFO:root:Determined delimiter of CSV input is ','\u001b[0m\n",
      "\u001b[34mINFO:root:Determined delimiter of CSV input is ','\u001b[0m\n",
      "\u001b[34mINFO:root:Determined delimiter of CSV input is ','\u001b[0m\n",
      "\u001b[34mINFO:root:Single node training.\u001b[0m\n",
      "\u001b[34mINFO:root:Train matrix has 7620 rows\u001b[0m\n",
      "\u001b[34mINFO:root:Validation matrix has 3266 rows\u001b[0m\n",
      "\u001b[34m[0]#011train-rmse:242.02477#011validation-rmse:240.47897\u001b[0m\n",
      "\u001b[34m[1]#011train-rmse:222.81418#011validation-rmse:221.17282\u001b[0m\n",
      "\u001b[34m[2]#011train-rmse:205.57568#011validation-rmse:204.06339\u001b[0m\n",
      "\u001b[34m[3]#011train-rmse:190.46678#011validation-rmse:188.93123\u001b[0m\n",
      "\u001b[34m[4]#011train-rmse:177.23645#011validation-rmse:175.82954\u001b[0m\n",
      "\u001b[34m[5]#011train-rmse:165.79686#011validation-rmse:164.38275\u001b[0m\n",
      "\u001b[34m[6]#011train-rmse:155.56654#011validation-rmse:154.23117\u001b[0m\n",
      "\u001b[34m[7]#011train-rmse:146.62456#011validation-rmse:145.38609\u001b[0m\n",
      "\u001b[34m[8]#011train-rmse:138.65471#011validation-rmse:137.59018\u001b[0m\n",
      "\u001b[34m[9]#011train-rmse:131.49017#011validation-rmse:130.62087\u001b[0m\n",
      "\u001b[34m[10]#011train-rmse:125.39840#011validation-rmse:124.68773\u001b[0m\n",
      "\u001b[34m[11]#011train-rmse:118.57058#011validation-rmse:118.20283\u001b[0m\n",
      "\u001b[34m[12]#011train-rmse:112.71213#011validation-rmse:112.61279\u001b[0m\n",
      "\u001b[34m[13]#011train-rmse:105.46042#011validation-rmse:105.86491\u001b[0m\n",
      "\u001b[34m[14]#011train-rmse:101.20928#011validation-rmse:101.79639\u001b[0m\n",
      "\u001b[34m[15]#011train-rmse:97.05930#011validation-rmse:97.91491\u001b[0m\n",
      "\u001b[34m[16]#011train-rmse:91.92148#011validation-rmse:93.06421\u001b[0m\n",
      "\u001b[34m[17]#011train-rmse:89.17197#011validation-rmse:90.36886\u001b[0m\n",
      "\u001b[34m[18]#011train-rmse:86.75575#011validation-rmse:88.09059\u001b[0m\n",
      "\u001b[34m[19]#011train-rmse:82.94788#011validation-rmse:84.52699\u001b[0m\n",
      "\u001b[34m[20]#011train-rmse:80.81974#011validation-rmse:82.61877\u001b[0m\n",
      "\u001b[34m[21]#011train-rmse:78.69158#011validation-rmse:80.70377\u001b[0m\n",
      "\u001b[34m[22]#011train-rmse:76.53494#011validation-rmse:78.66435\u001b[0m\n",
      "\u001b[34m[23]#011train-rmse:72.73273#011validation-rmse:75.20918\u001b[0m\n",
      "\u001b[34m[24]#011train-rmse:70.72641#011validation-rmse:73.37029\u001b[0m\n",
      "\u001b[34m[25]#011train-rmse:67.98768#011validation-rmse:70.99341\u001b[0m\n",
      "\u001b[34m[26]#011train-rmse:66.77643#011validation-rmse:69.85777\u001b[0m\n",
      "\u001b[34m[27]#011train-rmse:64.72002#011validation-rmse:67.94609\u001b[0m\n",
      "\u001b[34m[28]#011train-rmse:63.88744#011validation-rmse:67.16692\u001b[0m\n",
      "\u001b[34m[29]#011train-rmse:62.65825#011validation-rmse:66.07320\u001b[0m\n",
      "\u001b[34m[30]#011train-rmse:61.94872#011validation-rmse:65.41085\u001b[0m\n",
      "\u001b[34m[31]#011train-rmse:61.05209#011validation-rmse:64.66998\u001b[0m\n",
      "\u001b[34m[32]#011train-rmse:59.85604#011validation-rmse:63.62014\u001b[0m\n",
      "\u001b[34m[33]#011train-rmse:59.35921#011validation-rmse:63.17416\u001b[0m\n",
      "\u001b[34m[34]#011train-rmse:58.66875#011validation-rmse:62.51107\u001b[0m\n",
      "\u001b[34m[35]#011train-rmse:56.97491#011validation-rmse:60.97248\u001b[0m\n",
      "\u001b[34m[36]#011train-rmse:56.39343#011validation-rmse:60.43429\u001b[0m\n",
      "\u001b[34m[37]#011train-rmse:55.71895#011validation-rmse:59.80642\u001b[0m\n",
      "\u001b[34m[38]#011train-rmse:55.35701#011validation-rmse:59.58389\u001b[0m\n",
      "\u001b[34m[39]#011train-rmse:53.93566#011validation-rmse:58.35087\u001b[0m\n",
      "\u001b[34m[40]#011train-rmse:53.50989#011validation-rmse:57.99298\u001b[0m\n",
      "\u001b[34m[41]#011train-rmse:52.83466#011validation-rmse:57.41309\u001b[0m\n",
      "\u001b[34m[42]#011train-rmse:52.42664#011validation-rmse:57.05108\u001b[0m\n",
      "\u001b[34m[43]#011train-rmse:51.91262#011validation-rmse:56.62519\u001b[0m\n",
      "\u001b[34m[44]#011train-rmse:51.64758#011validation-rmse:56.39834\u001b[0m\n",
      "\u001b[34m[45]#011train-rmse:51.34618#011validation-rmse:56.16906\u001b[0m\n",
      "\u001b[34m[46]#011train-rmse:50.33508#011validation-rmse:55.32206\u001b[0m\n",
      "\u001b[34m[47]#011train-rmse:50.15849#011validation-rmse:55.17595\u001b[0m\n",
      "\u001b[34m[48]#011train-rmse:49.77798#011validation-rmse:54.87716\u001b[0m\n",
      "\u001b[34m[49]#011train-rmse:49.58944#011validation-rmse:54.72893\u001b[0m\n",
      "\u001b[34m[50]#011train-rmse:49.25811#011validation-rmse:54.47450\u001b[0m\n",
      "\u001b[34m[51]#011train-rmse:48.33058#011validation-rmse:53.59128\u001b[0m\n",
      "\u001b[34m[52]#011train-rmse:47.90930#011validation-rmse:53.21664\u001b[0m\n",
      "\u001b[34m[53]#011train-rmse:47.69841#011validation-rmse:53.07549\u001b[0m\n",
      "\u001b[34m[54]#011train-rmse:47.45998#011validation-rmse:52.94033\u001b[0m\n",
      "\u001b[34m[55]#011train-rmse:47.25755#011validation-rmse:52.80841\u001b[0m\n",
      "\u001b[34m[56]#011train-rmse:46.63244#011validation-rmse:52.29823\u001b[0m\n",
      "\u001b[34m[57]#011train-rmse:46.42562#011validation-rmse:52.16420\u001b[0m\n",
      "\u001b[34m[58]#011train-rmse:46.24618#011validation-rmse:52.02133\u001b[0m\n",
      "\u001b[34m[59]#011train-rmse:46.11836#011validation-rmse:51.92621\u001b[0m\n",
      "\u001b[34m[60]#011train-rmse:45.64040#011validation-rmse:51.53408\u001b[0m\n",
      "\u001b[34m[61]#011train-rmse:45.44554#011validation-rmse:51.37811\u001b[0m\n",
      "\u001b[34m[62]#011train-rmse:45.26523#011validation-rmse:51.25235\u001b[0m\n",
      "\u001b[34m[63]#011train-rmse:45.17466#011validation-rmse:51.16955\u001b[0m\n",
      "\u001b[34m[64]#011train-rmse:44.46129#011validation-rmse:50.53622\u001b[0m\n",
      "\u001b[34m[65]#011train-rmse:44.31697#011validation-rmse:50.43384\u001b[0m\n",
      "\u001b[34m[66]#011train-rmse:43.91795#011validation-rmse:50.03748\u001b[0m\n",
      "\u001b[34m[67]#011train-rmse:43.80186#011validation-rmse:49.98050\u001b[0m\n",
      "\u001b[34m[68]#011train-rmse:43.62652#011validation-rmse:49.85041\u001b[0m\n",
      "\u001b[34m[69]#011train-rmse:43.49795#011validation-rmse:49.73853\u001b[0m\n",
      "\u001b[34m[70]#011train-rmse:43.40588#011validation-rmse:49.67141\u001b[0m\n",
      "\u001b[34m[71]#011train-rmse:43.28690#011validation-rmse:49.59452\u001b[0m\n",
      "\u001b[34m[72]#011train-rmse:43.21510#011validation-rmse:49.53452\u001b[0m\n",
      "\u001b[34m[73]#011train-rmse:43.09950#011validation-rmse:49.46745\u001b[0m\n",
      "\u001b[34m[74]#011train-rmse:42.95085#011validation-rmse:49.37531\u001b[0m\n",
      "\u001b[34m[75]#011train-rmse:42.31794#011validation-rmse:48.87185\u001b[0m\n",
      "\u001b[34m[76]#011train-rmse:42.19750#011validation-rmse:48.77583\u001b[0m\n",
      "\u001b[34m[77]#011train-rmse:41.72556#011validation-rmse:48.33872\u001b[0m\n",
      "\u001b[34m[78]#011train-rmse:41.64749#011validation-rmse:48.24890\u001b[0m\n",
      "\u001b[34m[79]#011train-rmse:41.56053#011validation-rmse:48.21305\u001b[0m\n",
      "\u001b[34m[80]#011train-rmse:41.40102#011validation-rmse:48.08414\u001b[0m\n",
      "\u001b[34m[81]#011train-rmse:41.30600#011validation-rmse:48.02918\u001b[0m\n",
      "\u001b[34m[82]#011train-rmse:41.10287#011validation-rmse:47.88898\u001b[0m\n",
      "\u001b[34m[83]#011train-rmse:41.00995#011validation-rmse:47.83493\u001b[0m\n",
      "\u001b[34m[84]#011train-rmse:40.85508#011validation-rmse:47.79559\u001b[0m\n",
      "\u001b[34m[85]#011train-rmse:40.72648#011validation-rmse:47.71399\u001b[0m\n",
      "\u001b[34m[86]#011train-rmse:40.40880#011validation-rmse:47.42501\u001b[0m\n",
      "\u001b[34m[87]#011train-rmse:40.35090#011validation-rmse:47.40135\u001b[0m\n",
      "\u001b[34m[88]#011train-rmse:40.27492#011validation-rmse:47.36775\u001b[0m\n",
      "\u001b[34m[89]#011train-rmse:39.87699#011validation-rmse:47.07705\u001b[0m\n",
      "\u001b[34m[90]#011train-rmse:39.78273#011validation-rmse:47.00270\u001b[0m\n",
      "\u001b[34m[91]#011train-rmse:39.75341#011validation-rmse:46.97659\u001b[0m\n",
      "\u001b[34m[92]#011train-rmse:39.32650#011validation-rmse:46.64780\u001b[0m\n",
      "\u001b[34m[93]#011train-rmse:39.27236#011validation-rmse:46.62083\u001b[0m\n",
      "\u001b[34m[94]#011train-rmse:39.22442#011validation-rmse:46.62555\u001b[0m\n",
      "\u001b[34m[95]#011train-rmse:39.16849#011validation-rmse:46.58261\u001b[0m\n",
      "\u001b[34m[96]#011train-rmse:39.01161#011validation-rmse:46.46513\u001b[0m\n",
      "\u001b[34m[97]#011train-rmse:38.78480#011validation-rmse:46.28094\u001b[0m\n",
      "\u001b[34m[98]#011train-rmse:38.68225#011validation-rmse:46.21396\u001b[0m\n",
      "\u001b[34m[99]#011train-rmse:38.45327#011validation-rmse:46.04032\u001b[0m\n",
      "\u001b[34m[100]#011train-rmse:38.41620#011validation-rmse:46.03463\u001b[0m\n",
      "\u001b[34m[101]#011train-rmse:38.34577#011validation-rmse:46.01743\u001b[0m\n",
      "\u001b[34m[102]#011train-rmse:38.15730#011validation-rmse:45.85439\u001b[0m\n",
      "\u001b[34m[103]#011train-rmse:38.04013#011validation-rmse:45.80592\u001b[0m\n",
      "\u001b[34m[104]#011train-rmse:37.88230#011validation-rmse:45.71357\u001b[0m\n",
      "\u001b[34m[105]#011train-rmse:37.73215#011validation-rmse:45.61249\u001b[0m\n",
      "\u001b[34m[106]#011train-rmse:37.57912#011validation-rmse:45.55039\u001b[0m\n",
      "\u001b[34m[107]#011train-rmse:37.54836#011validation-rmse:45.52543\u001b[0m\n",
      "\u001b[34m[108]#011train-rmse:37.45421#011validation-rmse:45.45245\u001b[0m\n",
      "\u001b[34m[109]#011train-rmse:37.28855#011validation-rmse:45.37426\u001b[0m\n",
      "\u001b[34m[110]#011train-rmse:37.21427#011validation-rmse:45.32071\u001b[0m\n",
      "\u001b[34m[111]#011train-rmse:37.13742#011validation-rmse:45.28488\u001b[0m\n",
      "\u001b[34m[112]#011train-rmse:37.05065#011validation-rmse:45.21874\u001b[0m\n",
      "\u001b[34m[113]#011train-rmse:36.82139#011validation-rmse:45.01421\u001b[0m\n",
      "\u001b[34m[114]#011train-rmse:36.73454#011validation-rmse:44.95208\u001b[0m\n",
      "\u001b[34m[115]#011train-rmse:36.66826#011validation-rmse:44.89340\u001b[0m\n",
      "\u001b[34m[116]#011train-rmse:36.56608#011validation-rmse:44.85519\u001b[0m\n",
      "\u001b[34m[117]#011train-rmse:36.41806#011validation-rmse:44.73439\u001b[0m\n",
      "\u001b[34m[118]#011train-rmse:36.33566#011validation-rmse:44.71035\u001b[0m\n",
      "\u001b[34m[119]#011train-rmse:36.20802#011validation-rmse:44.69101\u001b[0m\n",
      "\u001b[34m[120]#011train-rmse:36.14981#011validation-rmse:44.65616\u001b[0m\n",
      "\u001b[34m[121]#011train-rmse:36.12365#011validation-rmse:44.63966\u001b[0m\n",
      "\u001b[34m[122]#011train-rmse:36.01445#011validation-rmse:44.58714\u001b[0m\n",
      "\u001b[34m[123]#011train-rmse:35.96537#011validation-rmse:44.51946\u001b[0m\n",
      "\u001b[34m[124]#011train-rmse:35.91959#011validation-rmse:44.48346\u001b[0m\n",
      "\u001b[34m[125]#011train-rmse:35.90221#011validation-rmse:44.47380\u001b[0m\n",
      "\u001b[34m[126]#011train-rmse:35.81009#011validation-rmse:44.44931\u001b[0m\n",
      "\u001b[34m[127]#011train-rmse:35.72566#011validation-rmse:44.38972\u001b[0m\n",
      "\u001b[34m[128]#011train-rmse:35.60253#011validation-rmse:44.34499\u001b[0m\n",
      "\u001b[34m[129]#011train-rmse:35.56325#011validation-rmse:44.31740\u001b[0m\n",
      "\u001b[34m[130]#011train-rmse:35.48661#011validation-rmse:44.30695\u001b[0m\n",
      "\u001b[34m[131]#011train-rmse:35.40610#011validation-rmse:44.23590\u001b[0m\n",
      "\u001b[34m[132]#011train-rmse:35.35366#011validation-rmse:44.20710\u001b[0m\n",
      "\u001b[34m[133]#011train-rmse:35.31818#011validation-rmse:44.20804\u001b[0m\n",
      "\u001b[34m[134]#011train-rmse:35.27993#011validation-rmse:44.19393\u001b[0m\n",
      "\u001b[34m[135]#011train-rmse:35.25702#011validation-rmse:44.18780\u001b[0m\n",
      "\u001b[34m[136]#011train-rmse:35.21952#011validation-rmse:44.17223\u001b[0m\n",
      "\u001b[34m[137]#011train-rmse:35.16722#011validation-rmse:44.13705\u001b[0m\n",
      "\u001b[34m[138]#011train-rmse:35.09853#011validation-rmse:44.09353\u001b[0m\n",
      "\u001b[34m[139]#011train-rmse:35.06233#011validation-rmse:44.05857\u001b[0m\n",
      "\u001b[34m[140]#011train-rmse:35.04578#011validation-rmse:44.05186\u001b[0m\n",
      "\u001b[34m[141]#011train-rmse:35.03037#011validation-rmse:44.04196\u001b[0m\n",
      "\u001b[34m[142]#011train-rmse:34.96915#011validation-rmse:44.02687\u001b[0m\n",
      "\u001b[34m[143]#011train-rmse:34.93986#011validation-rmse:44.00234\u001b[0m\n",
      "\u001b[34m[144]#011train-rmse:34.89653#011validation-rmse:43.95389\u001b[0m\n",
      "\u001b[34m[145]#011train-rmse:34.84055#011validation-rmse:43.94776\u001b[0m\n",
      "\u001b[34m[146]#011train-rmse:34.73852#011validation-rmse:43.89673\u001b[0m\n",
      "\u001b[34m[147]#011train-rmse:34.71177#011validation-rmse:43.88660\u001b[0m\n",
      "\u001b[34m[148]#011train-rmse:34.64078#011validation-rmse:43.87335\u001b[0m\n",
      "\u001b[34m[149]#011train-rmse:34.52586#011validation-rmse:43.80913\u001b[0m\n"
     ]
    },
    {
     "name": "stdout",
     "output_type": "stream",
     "text": [
      "\n",
      "2021-02-07 13:53:19 Training - Training image download completed. Training in progress.\n",
      "2021-02-07 13:53:59 Uploading - Uploading generated training model\n",
      "2021-02-07 13:53:59 Completed - Training job completed\n",
      "Training seconds: 99\n",
      "Billable seconds: 99\n"
     ]
    }
   ],
   "source": [
    "# XGBoost supports \"train\", \"validation\" channels\n",
    "# Reference: Supported channels by algorithm\n",
    "#   https://docs.aws.amazon.com/sagemaker/latest/dg/sagemaker-algo-docker-registry-paths.html\n",
    "estimator.fit(data_channels)"
   ]
  },
  {
   "cell_type": "markdown",
   "metadata": {},
   "source": [
    "## Deploy Model"
   ]
  },
  {
   "cell_type": "code",
   "execution_count": 31,
   "metadata": {},
   "outputs": [
    {
     "name": "stdout",
     "output_type": "stream",
     "text": [
      "-----------------!"
     ]
    }
   ],
   "source": [
    "# Ref: http://sagemaker.readthedocs.io/en/latest/estimators.html\n",
    "predictor = estimator.deploy(initial_instance_count=1,\n",
    "                             instance_type='ml.m4.xlarge',\n",
    "                             endpoint_name = 'xgboost-bikerental-v1')"
   ]
  },
  {
   "cell_type": "markdown",
   "metadata": {
    "collapsed": true
   },
   "source": [
    "## Run Predictions"
   ]
  },
  {
   "cell_type": "code",
   "execution_count": 32,
   "metadata": {},
   "outputs": [],
   "source": [
    "# SDK 2.0 serializers\n",
    "from sagemaker.serializers import CSVSerializer"
   ]
  },
  {
   "cell_type": "code",
   "execution_count": 33,
   "metadata": {},
   "outputs": [],
   "source": [
    "predictor.serializer = CSVSerializer()"
   ]
  },
  {
   "cell_type": "code",
   "execution_count": 34,
   "metadata": {},
   "outputs": [
    {
     "data": {
      "text/plain": [
       "b'42.761497497558594'"
      ]
     },
     "execution_count": 34,
     "metadata": {},
     "output_type": "execute_result"
    }
   ],
   "source": [
    "predictor.predict([[3,0,1,2,28.7,33.335,79,12.998,2011,7,7,3]])"
   ]
  },
  {
   "cell_type": "markdown",
   "metadata": {
    "collapsed": true
   },
   "source": [
    "## Summary"
   ]
  },
  {
   "cell_type": "markdown",
   "metadata": {},
   "source": [
    "1. Ensure Training, Test and Validation data are in S3 Bucket\n",
    "2. Select Algorithm Container Registry Path - Path varies by region\n",
    "3. Configure Estimator for training - Specify Algorithm container, instance count, instance type, model output location\n",
    "4. Specify algorithm specific hyper parameters\n",
    "5. Train model\n",
    "6. Deploy model - Specify instance count, instance type and endpoint name\n",
    "7. Run Predictions"
   ]
  }
 ],
 "metadata": {
  "kernelspec": {
   "display_name": "conda_python3",
   "language": "python",
   "name": "conda_python3"
  },
  "language_info": {
   "codemirror_mode": {
    "name": "ipython",
    "version": 3
   },
   "file_extension": ".py",
   "mimetype": "text/x-python",
   "name": "python",
   "nbconvert_exporter": "python",
   "pygments_lexer": "ipython3",
   "version": "3.6.10"
  }
 },
 "nbformat": 4,
 "nbformat_minor": 2
}
