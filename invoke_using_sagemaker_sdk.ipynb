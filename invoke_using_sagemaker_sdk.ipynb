{
 "cells": [
  {
   "cell_type": "markdown",
   "metadata": {},
   "source": [
    "## Invoke SageMaker Enpoint from outside of AWS environment using SageMaker SDK\n",
    "\n",
    "Model used: XGBoost Bike Rental Prediction Trained in the XGBoost Lectures  \n",
    "  \n",
    "This example uses the IAM user: ml_user_predict. The user was setup in the housekeeping lecture of the course.  \n",
    "\n",
    "Refer to the lecture: Configure IAM Users, Setup Command Line Interface (CLI)\n",
    "\n",
    "Ensure xgboost-biketrain-v1 Endpoint is deployed before running this example  \n",
    "  \n",
    "To create an endpoint using SageMaker Console:  \n",
    "1. Select \"Models\" under \"Inference\" in navigation pane\n",
    "2. Search for model using this prefix: xgboost-biketrain-v1\n",
    "3. Select the latest model and choose create endpoint\n",
    "4. Specify endpoint name as: xgboost-biketrain-v1\n",
    "5. Create a new endpoint configuration\n",
    "6. Create a new endpoint\n",
    "7. After this lab is completed, delete the endpoint to avoid unnecessary charges"
   ]
  },
  {
   "cell_type": "code",
   "execution_count": 1,
   "metadata": {},
   "outputs": [
    {
     "name": "stdout",
     "output_type": "stream",
     "text": [
      "Collecting sagemaker"
     ]
    },
    {
     "name": "stderr",
     "output_type": "stream",
     "text": [
      "ERROR: aiobotocore 1.1.0 has requirement botocore<1.17.45,>=1.17.44, but you'll have botocore 1.20.3 which is incompatible.\n"
     ]
    },
    {
     "name": "stdout",
     "output_type": "stream",
     "text": [
      "\n",
      "  Downloading sagemaker-2.24.3.tar.gz (396 kB)\n",
      "Requirement already satisfied, skipping upgrade: attrs in c:\\programdata\\anaconda3\\lib\\site-packages (from sagemaker) (19.3.0)\n",
      "Collecting boto3>=1.16.32\n",
      "  Downloading boto3-1.17.3-py2.py3-none-any.whl (130 kB)\n",
      "Requirement already satisfied, skipping upgrade: google-pasta in c:\\programdata\\anaconda3\\lib\\site-packages (from sagemaker) (0.2.0)\n",
      "Requirement already satisfied, skipping upgrade: numpy>=1.9.0 in c:\\programdata\\anaconda3\\lib\\site-packages (from sagemaker) (1.18.5)\n",
      "Requirement already satisfied, skipping upgrade: protobuf>=3.1 in c:\\programdata\\anaconda3\\lib\\site-packages (from sagemaker) (3.13.0)\n",
      "Collecting protobuf3-to-dict>=0.1.5\n",
      "  Using cached protobuf3-to-dict-0.1.5.tar.gz (3.5 kB)\n",
      "Collecting smdebug_rulesconfig==1.0.1\n",
      "  Downloading smdebug_rulesconfig-1.0.1-py2.py3-none-any.whl (20 kB)\n",
      "Requirement already satisfied, skipping upgrade: importlib-metadata>=1.4.0 in c:\\programdata\\anaconda3\\lib\\site-packages (from sagemaker) (1.7.0)\n",
      "Requirement already satisfied, skipping upgrade: packaging>=20.0 in c:\\programdata\\anaconda3\\lib\\site-packages (from sagemaker) (20.4)\n",
      "Requirement already satisfied, skipping upgrade: s3transfer<0.4.0,>=0.3.0 in c:\\programdata\\anaconda3\\lib\\site-packages (from boto3>=1.16.32->sagemaker) (0.3.3)\n",
      "Requirement already satisfied, skipping upgrade: jmespath<1.0.0,>=0.7.1 in c:\\programdata\\anaconda3\\lib\\site-packages (from boto3>=1.16.32->sagemaker) (0.10.0)\n",
      "Collecting botocore<1.21.0,>=1.20.3\n",
      "  Downloading botocore-1.20.3-py2.py3-none-any.whl (7.2 MB)\n",
      "Requirement already satisfied, skipping upgrade: six in c:\\programdata\\anaconda3\\lib\\site-packages (from google-pasta->sagemaker) (1.15.0)\n",
      "Requirement already satisfied, skipping upgrade: setuptools in c:\\programdata\\anaconda3\\lib\\site-packages (from protobuf>=3.1->sagemaker) (49.2.0.post20200714)\n",
      "Requirement already satisfied, skipping upgrade: zipp>=0.5 in c:\\programdata\\anaconda3\\lib\\site-packages (from importlib-metadata>=1.4.0->sagemaker) (3.1.0)\n",
      "Requirement already satisfied, skipping upgrade: pyparsing>=2.0.2 in c:\\programdata\\anaconda3\\lib\\site-packages (from packaging>=20.0->sagemaker) (2.4.7)\n",
      "Requirement already satisfied, skipping upgrade: urllib3<1.27,>=1.25.4 in c:\\programdata\\anaconda3\\lib\\site-packages (from botocore<1.21.0,>=1.20.3->boto3>=1.16.32->sagemaker) (1.25.9)\n",
      "Requirement already satisfied, skipping upgrade: python-dateutil<3.0.0,>=2.1 in c:\\programdata\\anaconda3\\lib\\site-packages (from botocore<1.21.0,>=1.20.3->boto3>=1.16.32->sagemaker) (2.8.1)\n",
      "Building wheels for collected packages: sagemaker, protobuf3-to-dict\n",
      "  Building wheel for sagemaker (setup.py): started\n",
      "  Building wheel for sagemaker (setup.py): finished with status 'done'\n",
      "  Created wheel for sagemaker: filename=sagemaker-2.24.3-py2.py3-none-any.whl size=560565 sha256=380396d661f347ed998a9ecbd7d0b437c1a418013ff9adb7d00dc070cd14f4fe\n",
      "  Stored in directory: c:\\users\\sesa488017\\appdata\\local\\pip\\cache\\wheels\\df\\6d\\ae\\530dafd51e74a4160a637727925f0a352c3853f1bc61b0a5f2\n",
      "  Building wheel for protobuf3-to-dict (setup.py): started\n",
      "  Building wheel for protobuf3-to-dict (setup.py): finished with status 'done'\n",
      "  Created wheel for protobuf3-to-dict: filename=protobuf3_to_dict-0.1.5-py3-none-any.whl size=4034 sha256=176953b7459ae24f5412b3c4a747f768c861bd1b52f9cd00d43fd76c19d49c98\n",
      "  Stored in directory: c:\\users\\sesa488017\\appdata\\local\\pip\\cache\\wheels\\fc\\10\\27\\2d1e23d8b9a9013a83fbb418a0b17b1e6f81c8db8f53b53934\n",
      "Successfully built sagemaker protobuf3-to-dict\n",
      "Installing collected packages: botocore, boto3, protobuf3-to-dict, smdebug-rulesconfig, sagemaker\n",
      "  Attempting uninstall: botocore\n",
      "    Found existing installation: botocore 1.17.51\n",
      "    Uninstalling botocore-1.17.51:\n",
      "      Successfully uninstalled botocore-1.17.51\n",
      "  Attempting uninstall: boto3\n",
      "    Found existing installation: boto3 1.14.51\n",
      "    Uninstalling boto3-1.14.51:\n",
      "      Successfully uninstalled boto3-1.14.51\n",
      "Successfully installed boto3-1.17.3 botocore-1.20.3 protobuf3-to-dict-0.1.5 sagemaker-2.24.3 smdebug-rulesconfig-1.0.1\n"
     ]
    }
   ],
   "source": [
    "# Install SageMaker 2.x version.\n",
    "!pip install --upgrade sagemaker"
   ]
  },
  {
   "cell_type": "code",
   "execution_count": 11,
   "metadata": {},
   "outputs": [],
   "source": [
    "import boto3\n",
    "import sagemaker\n",
    "import math\n",
    "import dateutil\n",
    "\n",
    "# SDK 2 serializers and deserializers\n",
    "from sagemaker.serializers import CSVSerializer\n",
    "from sagemaker.deserializers import JSONDeserializer"
   ]
  },
  {
   "cell_type": "code",
   "execution_count": 12,
   "metadata": {},
   "outputs": [],
   "source": [
    "# Establish a session with AWS\n",
    "# Specify credentials and region to be used for this session.\n",
    "# We will use a ml_user_predict credentials that has limited privileges\n",
    "boto_session = boto3.Session(profile_name='ml_user_predict',region_name='us-east-1')"
   ]
  },
  {
   "cell_type": "code",
   "execution_count": 13,
   "metadata": {},
   "outputs": [],
   "source": [
    "sess = sagemaker.Session(boto_session=boto_session)"
   ]
  },
  {
   "cell_type": "code",
   "execution_count": 14,
   "metadata": {},
   "outputs": [],
   "source": [
    "# Create a predictor and point to an existing endpoint\n",
    "\n",
    "# Get Predictor using SageMaker SDK\n",
    "# Specify Your Endpoint Name\n",
    "endpoint_name = 'xgboost-biketrain-v1'\n",
    "\n",
    "predictor = sagemaker.predictor.Predictor(endpoint_name=endpoint_name,\n",
    "                                                 sagemaker_session=sess)"
   ]
  },
  {
   "cell_type": "code",
   "execution_count": 15,
   "metadata": {},
   "outputs": [],
   "source": [
    "# We are sending data for inference in CSV format\n",
    "predictor.serializer = CSVSerializer()"
   ]
  },
  {
   "cell_type": "code",
   "execution_count": 16,
   "metadata": {},
   "outputs": [],
   "source": [
    "#datetime,season,holiday,workingday,weather,temp,atemp,humidity,windspeed\n",
    "# Actual=562\n",
    "sample_one = '2012-12-19 17:00:00,4,0,1,1,16.4,20.455,50,26.0027'\n",
    "# Actual=569\n",
    "sample_two = '2012-12-19 18:00:00,4,0,1,1,15.58,19.695,50,23.9994'\n",
    "# Actual=4\n",
    "sample_three = '2012-12-10 01:00:00,4,0,1,2,14.76,18.94,100,0'"
   ]
  },
  {
   "cell_type": "code",
   "execution_count": 17,
   "metadata": {},
   "outputs": [],
   "source": [
    "# Raw Data Structure: \n",
    "# datetime,season,holiday,workingday,weather,temp,atemp,humidity,windspeed,casual,registered,count\n",
    "\n",
    "# Model expects data in this format (it was trained with these features):\n",
    "# season,holiday,workingday,weather,temp,atemp,humidity,windspeed,year,month,day,dayofweek,hour\n",
    "\n",
    "def transform_data(data):\n",
    "    features = data.split(',')\n",
    "    \n",
    "    # Extract year, month, day, dayofweek, hour\n",
    "    dt = dateutil.parser.parse(features[0])\n",
    "\n",
    "    features.append(str(dt.year))\n",
    "    features.append(str(dt.month))\n",
    "    features.append(str(dt.day))\n",
    "    features.append(str(dt.weekday()))\n",
    "    features.append(str(dt.hour))\n",
    "    \n",
    "    # Return the transformed data. skip datetime field\n",
    "    return ','.join(features[1:])"
   ]
  },
  {
   "cell_type": "code",
   "execution_count": 18,
   "metadata": {},
   "outputs": [
    {
     "name": "stdout",
     "output_type": "stream",
     "text": [
      "Raw Data:\n",
      " 2012-12-19 17:00:00,4,0,1,1,16.4,20.455,50,26.0027\n",
      "Transformed Data:\n",
      " 4,0,1,1,16.4,20.455,50,26.0027,2012,12,19,2,17\n"
     ]
    }
   ],
   "source": [
    "print('Raw Data:\\n',sample_one)\n",
    "print('Transformed Data:\\n',transform_data(sample_one))"
   ]
  },
  {
   "cell_type": "code",
   "execution_count": 19,
   "metadata": {},
   "outputs": [
    {
     "data": {
      "text/plain": [
       "b'573.6282958984375'"
      ]
     },
     "execution_count": 19,
     "metadata": {},
     "output_type": "execute_result"
    }
   ],
   "source": [
    "# Let's invoke prediction now\n",
    "predictor.predict(transform_data(sample_one))"
   ]
  },
  {
   "cell_type": "code",
   "execution_count": 20,
   "metadata": {},
   "outputs": [
    {
     "name": "stdout",
     "output_type": "stream",
     "text": [
      "Predicted Count 1.329240521840346e+249\n"
     ]
    }
   ],
   "source": [
    "# Actual Count is 562...but predicted is 6.3.\n",
    "\n",
    "# Model was trained with log1p(count)\n",
    "# So, we need to apply inverse transformation to get the actual count\n",
    "# Predicted Count looks much better now\n",
    "result = predictor.predict(transform_data(sample_one))\n",
    "result = result.decode(\"utf-8\")\n",
    "print ('Predicted Count', math.expm1(float(result)))"
   ]
  },
  {
   "cell_type": "code",
   "execution_count": 22,
   "metadata": {},
   "outputs": [],
   "source": [
    "# how to send multiple samples\n",
    "result = predictor.predict([transform_data(sample_one), transform_data(sample_two)])"
   ]
  },
  {
   "cell_type": "code",
   "execution_count": 23,
   "metadata": {},
   "outputs": [
    {
     "data": {
      "text/plain": [
       "'573.6282958984375,547.5216064453125'"
      ]
     },
     "execution_count": 23,
     "metadata": {},
     "output_type": "execute_result"
    }
   ],
   "source": [
    "result.decode(\"utf-8\")"
   ]
  },
  {
   "cell_type": "code",
   "execution_count": 24,
   "metadata": {},
   "outputs": [],
   "source": [
    "# Batch Prediction\n",
    "# Transform data and invoke prediction in specified batch sizes\n",
    "def run_predictions(data, batch_size):\n",
    "    predictions = []\n",
    "    \n",
    "    transformed_data = [transform_data(row.strip()) for row in data]\n",
    "    \n",
    "    for i in range(0, len(data), batch_size):\n",
    "        \n",
    "        print(i,i+batch_size)\n",
    "        \n",
    "        result = predictor.predict(transformed_data[i : i + batch_size])\n",
    "        \n",
    "        result = result.decode(\"utf-8\")\n",
    "        result = result.split(',')\n",
    "        \n",
    "        predictions += [math.expm1(float(r)) for r in result]\n",
    "                \n",
    "    return predictions"
   ]
  },
  {
   "cell_type": "code",
   "execution_count": 25,
   "metadata": {},
   "outputs": [
    {
     "name": "stdout",
     "output_type": "stream",
     "text": [
      "0 10\n"
     ]
    },
    {
     "data": {
      "text/plain": [
       "[1.329240521840346e+249, 6.103970162143148e+237, 33650.626876684866]"
      ]
     },
     "execution_count": 25,
     "metadata": {},
     "output_type": "execute_result"
    }
   ],
   "source": [
    "run_predictions([sample_one,sample_two,sample_three],10)"
   ]
  },
  {
   "cell_type": "code",
   "execution_count": 26,
   "metadata": {},
   "outputs": [],
   "source": [
    "# Run a batch prediction on Test.CSV File\n",
    "# Read the file content\n",
    "data = []\n",
    "with open('test.csv','r') as f:\n",
    "    # skip header\n",
    "    f.readline()\n",
    "    # Read remaining lines\n",
    "    data = f.readlines()"
   ]
  },
  {
   "cell_type": "code",
   "execution_count": 27,
   "metadata": {},
   "outputs": [
    {
     "data": {
      "text/plain": [
       "6493"
      ]
     },
     "execution_count": 27,
     "metadata": {},
     "output_type": "execute_result"
    }
   ],
   "source": [
    "len(data)"
   ]
  },
  {
   "cell_type": "code",
   "execution_count": 28,
   "metadata": {},
   "outputs": [
    {
     "name": "stdout",
     "output_type": "stream",
     "text": [
      "0 15\n",
      "15 30\n",
      "30 45\n",
      "45 60\n",
      "60 75\n",
      "75 90\n",
      "90 105\n",
      "105 120\n",
      "120 135\n",
      "135 150\n",
      "150 165\n",
      "165 180\n",
      "180 195\n",
      "195 210\n",
      "210 225\n",
      "225 240\n",
      "240 255\n",
      "255 270\n",
      "270 285\n",
      "285 300\n",
      "300 315\n",
      "315 330\n",
      "330 345\n",
      "345 360\n",
      "360 375\n",
      "375 390\n",
      "390 405\n",
      "405 420\n",
      "420 435\n",
      "435 450\n",
      "450 465\n",
      "465 480\n",
      "480 495\n",
      "495 510\n",
      "510 525\n",
      "525 540\n",
      "540 555\n",
      "555 570\n",
      "570 585\n",
      "585 600\n",
      "600 615\n",
      "615 630\n",
      "630 645\n",
      "645 660\n",
      "660 675\n",
      "675 690\n",
      "690 705\n",
      "705 720\n",
      "720 735\n",
      "735 750\n",
      "750 765\n",
      "765 780\n",
      "780 795\n",
      "795 810\n",
      "810 825\n",
      "825 840\n",
      "840 855\n",
      "855 870\n",
      "870 885\n",
      "885 900\n",
      "900 915\n",
      "915 930\n",
      "930 945\n",
      "945 960\n",
      "960 975\n",
      "975 990\n",
      "990 1005\n",
      "1005 1020\n",
      "1020 1035\n",
      "1035 1050\n",
      "1050 1065\n",
      "1065 1080\n",
      "1080 1095\n",
      "1095 1110\n",
      "1110 1125\n",
      "1125 1140\n",
      "1140 1155\n",
      "1155 1170\n",
      "1170 1185\n",
      "1185 1200\n",
      "1200 1215\n",
      "1215 1230\n",
      "1230 1245\n",
      "1245 1260\n",
      "1260 1275\n",
      "1275 1290\n",
      "1290 1305\n",
      "1305 1320\n",
      "1320 1335\n",
      "1335 1350\n",
      "1350 1365\n",
      "1365 1380\n",
      "1380 1395\n",
      "1395 1410\n",
      "1410 1425\n",
      "1425 1440\n",
      "1440 1455\n",
      "1455 1470\n",
      "1470 1485\n",
      "1485 1500\n",
      "1500 1515\n",
      "1515 1530\n",
      "1530 1545\n",
      "1545 1560\n",
      "1560 1575\n",
      "1575 1590\n",
      "1590 1605\n",
      "1605 1620\n",
      "1620 1635\n",
      "1635 1650\n",
      "1650 1665\n",
      "1665 1680\n",
      "1680 1695\n",
      "1695 1710\n",
      "1710 1725\n",
      "1725 1740\n",
      "1740 1755\n",
      "1755 1770\n",
      "1770 1785\n",
      "1785 1800\n",
      "1800 1815\n",
      "1815 1830\n",
      "1830 1845\n",
      "1845 1860\n",
      "1860 1875\n",
      "1875 1890\n",
      "1890 1905\n",
      "1905 1920\n",
      "1920 1935\n",
      "1935 1950\n",
      "1950 1965\n",
      "1965 1980\n",
      "1980 1995\n",
      "1995 2010\n",
      "2010 2025\n",
      "2025 2040\n",
      "2040 2055\n",
      "2055 2070\n",
      "2070 2085\n",
      "2085 2100\n",
      "2100 2115\n",
      "2115 2130\n",
      "2130 2145\n",
      "2145 2160\n",
      "2160 2175\n",
      "2175 2190\n",
      "2190 2205\n",
      "2205 2220\n",
      "2220 2235\n",
      "2235 2250\n",
      "2250 2265\n",
      "2265 2280\n",
      "2280 2295\n",
      "2295 2310\n",
      "2310 2325\n",
      "2325 2340\n",
      "2340 2355\n",
      "2355 2370\n",
      "2370 2385\n",
      "2385 2400\n",
      "2400 2415\n",
      "2415 2430\n",
      "2430 2445\n",
      "2445 2460\n",
      "2460 2475\n",
      "2475 2490\n",
      "2490 2505\n",
      "2505 2520\n",
      "2520 2535\n",
      "2535 2550\n",
      "2550 2565\n",
      "2565 2580\n",
      "2580 2595\n",
      "2595 2610\n",
      "2610 2625\n",
      "2625 2640\n",
      "2640 2655\n",
      "2655 2670\n",
      "2670 2685\n",
      "2685 2700\n",
      "2700 2715\n",
      "2715 2730\n",
      "2730 2745\n",
      "2745 2760\n",
      "2760 2775\n",
      "2775 2790\n",
      "2790 2805\n",
      "2805 2820\n",
      "2820 2835\n",
      "2835 2850\n",
      "2850 2865\n",
      "2865 2880\n",
      "2880 2895\n",
      "2895 2910\n",
      "2910 2925\n",
      "2925 2940\n",
      "2940 2955\n",
      "2955 2970\n",
      "2970 2985\n",
      "2985 3000\n",
      "3000 3015\n",
      "3015 3030\n",
      "3030 3045\n",
      "3045 3060\n",
      "3060 3075\n",
      "3075 3090\n",
      "3090 3105\n",
      "3105 3120\n",
      "3120 3135\n",
      "3135 3150\n",
      "3150 3165\n",
      "3165 3180\n",
      "3180 3195\n",
      "3195 3210\n",
      "3210 3225\n",
      "3225 3240\n",
      "3240 3255\n",
      "3255 3270\n",
      "3270 3285\n",
      "3285 3300\n",
      "3300 3315\n",
      "3315 3330\n",
      "3330 3345\n",
      "3345 3360\n",
      "3360 3375\n",
      "3375 3390\n",
      "3390 3405\n",
      "3405 3420\n",
      "3420 3435\n",
      "3435 3450\n",
      "3450 3465\n",
      "3465 3480\n",
      "3480 3495\n",
      "3495 3510\n",
      "3510 3525\n",
      "3525 3540\n",
      "3540 3555\n",
      "3555 3570\n",
      "3570 3585\n",
      "3585 3600\n",
      "3600 3615\n",
      "3615 3630\n",
      "3630 3645\n",
      "3645 3660\n",
      "3660 3675\n",
      "3675 3690\n",
      "3690 3705\n",
      "3705 3720\n",
      "3720 3735\n",
      "3735 3750\n",
      "3750 3765\n",
      "3765 3780\n",
      "3780 3795\n",
      "3795 3810\n",
      "3810 3825\n"
     ]
    },
    {
     "ename": "OverflowError",
     "evalue": "math range error",
     "output_type": "error",
     "traceback": [
      "\u001b[1;31m---------------------------------------------------------------------------\u001b[0m",
      "\u001b[1;31mOverflowError\u001b[0m                             Traceback (most recent call last)",
      "\u001b[1;32m<timed exec>\u001b[0m in \u001b[0;36m<module>\u001b[1;34m\u001b[0m\n",
      "\u001b[1;32m<ipython-input-24-9236686d9a6f>\u001b[0m in \u001b[0;36mrun_predictions\u001b[1;34m(data, batch_size)\u001b[0m\n\u001b[0;32m     15\u001b[0m         \u001b[0mresult\u001b[0m \u001b[1;33m=\u001b[0m \u001b[0mresult\u001b[0m\u001b[1;33m.\u001b[0m\u001b[0msplit\u001b[0m\u001b[1;33m(\u001b[0m\u001b[1;34m','\u001b[0m\u001b[1;33m)\u001b[0m\u001b[1;33m\u001b[0m\u001b[1;33m\u001b[0m\u001b[0m\n\u001b[0;32m     16\u001b[0m \u001b[1;33m\u001b[0m\u001b[0m\n\u001b[1;32m---> 17\u001b[1;33m         \u001b[0mpredictions\u001b[0m \u001b[1;33m+=\u001b[0m \u001b[1;33m[\u001b[0m\u001b[0mmath\u001b[0m\u001b[1;33m.\u001b[0m\u001b[0mexpm1\u001b[0m\u001b[1;33m(\u001b[0m\u001b[0mfloat\u001b[0m\u001b[1;33m(\u001b[0m\u001b[0mr\u001b[0m\u001b[1;33m)\u001b[0m\u001b[1;33m)\u001b[0m \u001b[1;32mfor\u001b[0m \u001b[0mr\u001b[0m \u001b[1;32min\u001b[0m \u001b[0mresult\u001b[0m\u001b[1;33m]\u001b[0m\u001b[1;33m\u001b[0m\u001b[1;33m\u001b[0m\u001b[0m\n\u001b[0m\u001b[0;32m     18\u001b[0m \u001b[1;33m\u001b[0m\u001b[0m\n\u001b[0;32m     19\u001b[0m     \u001b[1;32mreturn\u001b[0m \u001b[0mpredictions\u001b[0m\u001b[1;33m\u001b[0m\u001b[1;33m\u001b[0m\u001b[0m\n",
      "\u001b[1;32m<ipython-input-24-9236686d9a6f>\u001b[0m in \u001b[0;36m<listcomp>\u001b[1;34m(.0)\u001b[0m\n\u001b[0;32m     15\u001b[0m         \u001b[0mresult\u001b[0m \u001b[1;33m=\u001b[0m \u001b[0mresult\u001b[0m\u001b[1;33m.\u001b[0m\u001b[0msplit\u001b[0m\u001b[1;33m(\u001b[0m\u001b[1;34m','\u001b[0m\u001b[1;33m)\u001b[0m\u001b[1;33m\u001b[0m\u001b[1;33m\u001b[0m\u001b[0m\n\u001b[0;32m     16\u001b[0m \u001b[1;33m\u001b[0m\u001b[0m\n\u001b[1;32m---> 17\u001b[1;33m         \u001b[0mpredictions\u001b[0m \u001b[1;33m+=\u001b[0m \u001b[1;33m[\u001b[0m\u001b[0mmath\u001b[0m\u001b[1;33m.\u001b[0m\u001b[0mexpm1\u001b[0m\u001b[1;33m(\u001b[0m\u001b[0mfloat\u001b[0m\u001b[1;33m(\u001b[0m\u001b[0mr\u001b[0m\u001b[1;33m)\u001b[0m\u001b[1;33m)\u001b[0m \u001b[1;32mfor\u001b[0m \u001b[0mr\u001b[0m \u001b[1;32min\u001b[0m \u001b[0mresult\u001b[0m\u001b[1;33m]\u001b[0m\u001b[1;33m\u001b[0m\u001b[1;33m\u001b[0m\u001b[0m\n\u001b[0m\u001b[0;32m     18\u001b[0m \u001b[1;33m\u001b[0m\u001b[0m\n\u001b[0;32m     19\u001b[0m     \u001b[1;32mreturn\u001b[0m \u001b[0mpredictions\u001b[0m\u001b[1;33m\u001b[0m\u001b[1;33m\u001b[0m\u001b[0m\n",
      "\u001b[1;31mOverflowError\u001b[0m: math range error"
     ]
    }
   ],
   "source": [
    "%%time\n",
    "predictions = run_predictions(data,15)"
   ]
  },
  {
   "cell_type": "code",
   "execution_count": 20,
   "metadata": {},
   "outputs": [
    {
     "ename": "NameError",
     "evalue": "name 'predictions' is not defined",
     "output_type": "error",
     "traceback": [
      "\u001b[1;31m---------------------------------------------------------------------------\u001b[0m",
      "\u001b[1;31mNameError\u001b[0m                                 Traceback (most recent call last)",
      "\u001b[1;32m<ipython-input-20-34a5bcdc1226>\u001b[0m in \u001b[0;36m<module>\u001b[1;34m\u001b[0m\n\u001b[1;32m----> 1\u001b[1;33m \u001b[0mlen\u001b[0m\u001b[1;33m(\u001b[0m\u001b[0mpredictions\u001b[0m\u001b[1;33m)\u001b[0m\u001b[1;33m,\u001b[0m\u001b[0mlen\u001b[0m\u001b[1;33m(\u001b[0m\u001b[0mdata\u001b[0m\u001b[1;33m)\u001b[0m\u001b[1;33m\u001b[0m\u001b[1;33m\u001b[0m\u001b[0m\n\u001b[0m",
      "\u001b[1;31mNameError\u001b[0m: name 'predictions' is not defined"
     ]
    }
   ],
   "source": [
    "len(predictions),len(data)"
   ]
  },
  {
   "cell_type": "code",
   "execution_count": null,
   "metadata": {},
   "outputs": [],
   "source": [
    "# Don't forget to delete the endpoint\n",
    "# From SageMaker Console, Select \"Endpoints\" under Inference and Delete the Endpoint"
   ]
  }
 ],
 "metadata": {
  "kernelspec": {
   "display_name": "Python 3",
   "language": "python",
   "name": "python3"
  },
  "language_info": {
   "codemirror_mode": {
    "name": "ipython",
    "version": 3
   },
   "file_extension": ".py",
   "mimetype": "text/x-python",
   "name": "python",
   "nbconvert_exporter": "python",
   "pygments_lexer": "ipython3",
   "version": "3.8.3"
  }
 },
 "nbformat": 4,
 "nbformat_minor": 2
}
